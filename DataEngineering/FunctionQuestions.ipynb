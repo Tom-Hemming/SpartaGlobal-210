{
 "cells": [
  {
   "cell_type": "code",
   "execution_count": 2,
   "id": "4aa2a54c",
   "metadata": {},
   "outputs": [
    {
     "name": "stdout",
     "output_type": "stream",
     "text": [
      "\n",
      "Q1a\n",
      "\n"
     ]
    },
    {
     "data": {
      "text/plain": [
       "[1, 2, 3, 4, 6, 12]"
      ]
     },
     "execution_count": 2,
     "metadata": {},
     "output_type": "execute_result"
    }
   ],
   "source": [
    "print(\"\\nQ1a\\n\")\n",
    "# Q1a: Write a function which takes in an integer as an argument and returns the divisors of that number as a list\n",
    "# e.g. f(12) = [1, 2, 3, 4, 6, 12]\n",
    "# hint: range(1, n) returns a collection of the numbers from 1 to n-1\n",
    "\n",
    "# A1a:\n",
    "\n",
    "\n",
    "def int_divis(input_int):\n",
    "    global divisor_list\n",
    "    divisor_list=[]\n",
    "    for i in range(1,input_int+1):\n",
    "        if input_int%i == 0:\n",
    "            divisor_list.append(i)\n",
    "    \n",
    "    return divisor_list\n",
    "int_divis(12)"
   ]
  },
  {
   "cell_type": "code",
   "execution_count": 3,
   "id": "5a54703f",
   "metadata": {},
   "outputs": [
    {
     "name": "stdout",
     "output_type": "stream",
     "text": [
      "\n",
      "Q1b\n",
      "\n",
      "True\n"
     ]
    }
   ],
   "source": [
    "print(\"\\nQ1b\\n\")\n",
    "# Q1b: Write a function which takes in two integers as arguments and returns true if one of the numbers\n",
    "# is a factor of the other, false otherwise\n",
    "# (bonus points if you call your previous function within this function\n",
    "\n",
    "# A1b:\n",
    "\n",
    "def factor_check(integer_1,integer_2):\n",
    "    int_divis(max(integer_1,integer_2))\n",
    "    if min(integer_1,integer_2) in divisor_list:\n",
    "        print(\"True\")\n",
    "    else:\n",
    "        print(\"false\")\n",
    "    \n",
    "factor_check(42,168)"
   ]
  },
  {
   "cell_type": "code",
   "execution_count": 4,
   "id": "815356c8",
   "metadata": {},
   "outputs": [
    {
     "name": "stdout",
     "output_type": "stream",
     "text": [
      "\n",
      "Q2a\n",
      "\n"
     ]
    },
    {
     "data": {
      "text/plain": [
       "9"
      ]
     },
     "execution_count": 4,
     "metadata": {},
     "output_type": "execute_result"
    }
   ],
   "source": [
    "\n",
    "# -------------------------------------------------------------------------------------- #\n",
    "\n",
    "print(\"\\nQ2a\\n\")\n",
    "# Q2a: write a function which takes a letter (as a string) as an input and outputs it's position in the alphabet\n",
    "\n",
    "\n",
    "# A2a:\n",
    "def alpha_loc(input_string):\n",
    "    global location\n",
    "    alphabet = \"abcdefghijklmnopqrstuvwxyz \"\n",
    "    location = alphabet.find(input_string)\n",
    "    return location\n",
    "\n",
    "    \n",
    "\n",
    "alpha_loc(\"j\")\n",
    "\n",
    "\n",
    "\n"
   ]
  },
  {
   "cell_type": "code",
   "execution_count": 5,
   "id": "64cf4056",
   "metadata": {},
   "outputs": [
    {
     "name": "stdout",
     "output_type": "stream",
     "text": [
      "\n",
      "Q2b\n",
      "\n"
     ]
    },
    {
     "data": {
      "text/plain": [
       "'1141'"
      ]
     },
     "execution_count": 5,
     "metadata": {},
     "output_type": "execute_result"
    }
   ],
   "source": [
    "print(\"\\nQ2b\\n\")\n",
    "# Q2b: create a function which takes a persons name as an input string and returns an\n",
    "# ID number consisting of the positions of each letter in the name\n",
    "# e.g. f(\"bob\") = \"1141\" as \"b\" is in position 1 and \"o\" is in position 14\n",
    "\n",
    "# A2b:\n",
    "def name_id(input_name):\n",
    "    global id_number_list\n",
    "    id_number_list = []\n",
    "    for letter in input_name:\n",
    "        alpha_loc(letter)\n",
    "        id_number_list.append(location)\n",
    "    global id_number\n",
    "    id_number=str(id_number_list[0])    \n",
    "    for i in range(1,len(id_number_list)):\n",
    "        id_number+=str(id_number_list[i])\n",
    "    return id_number\n",
    "name_id(\"bob\")        \n",
    "\n",
    "\n"
   ]
  },
  {
   "cell_type": "code",
   "execution_count": 6,
   "id": "745b9521",
   "metadata": {},
   "outputs": [
    {
     "name": "stdout",
     "output_type": "stream",
     "text": [
      "\n",
      "Q2c\n",
      "\n"
     ]
    },
    {
     "data": {
      "text/plain": [
       "1134"
      ]
     },
     "execution_count": 6,
     "metadata": {},
     "output_type": "execute_result"
    }
   ],
   "source": [
    "print(\"\\nQ2c\\n\")\n",
    "# Q2c: Create a function which turns this ID into a password. The function should subtract\n",
    "# the sum of the numbers in the id that was generated from the whole number of the id.\n",
    "# e.g. f(\"bob\") -> 1134 (because bob's id was 1141 and 1+1+4+1 = 7 so 1141 - 7 = 1134)\n",
    "\n",
    "# A2c:\n",
    "def password(input_name_password):\n",
    "    name_id(input_name_password)\n",
    "    password= int(id_number)\n",
    "    subtract_this =0\n",
    "    for i in id_number:\n",
    "        if i.isdigit()== True:\n",
    "            subtract_this += int(i)\n",
    "    password-=subtract_this\n",
    "    return password\n",
    "    \n",
    "\n",
    "\n",
    "password(\"bob\")"
   ]
  },
  {
   "cell_type": "code",
   "execution_count": 7,
   "id": "f5c3c0d4",
   "metadata": {},
   "outputs": [
    {
     "name": "stdout",
     "output_type": "stream",
     "text": [
      "\n",
      "Q3a\n",
      "\n",
      "11\n"
     ]
    },
    {
     "data": {
      "text/plain": [
       "'true'"
      ]
     },
     "execution_count": 7,
     "metadata": {},
     "output_type": "execute_result"
    }
   ],
   "source": [
    "# -------------------------------------------------------------------------------------- #\n",
    "\n",
    "print(\"\\nQ3a\\n\")\n",
    "# Q3a: Write a function which takes an integer as an input, and returns true if the number is prime, false otherwise.\n",
    "\n",
    "# A3a:\n",
    "def prime_check(prime_input):\n",
    "    prime_test=0\n",
    "    if type(prime_input) != int:\n",
    "        print(\"Please input an integer\")\n",
    "    elif prime_input==1:\n",
    "        return \"false\"\n",
    "    else: \n",
    "        for i in range(2,prime_input):\n",
    "            if prime_input%i == 0:\n",
    "                prime_test = 1\n",
    "                break\n",
    "        if prime_test == 1:\n",
    "            return \"false\"\n",
    "        else:\n",
    "            return \"true\"\n",
    "\n",
    "num_in = int(input())\n",
    "\n",
    "prime_check(num_in)\n",
    "\n"
   ]
  },
  {
   "cell_type": "code",
   "execution_count": 22,
   "id": "2117c4ce",
   "metadata": {},
   "outputs": [
    {
     "name": "stdout",
     "output_type": "stream",
     "text": [
      "\n",
      "Q3b\n",
      "\n",
      "Pick a number!potato\n",
      "Please input an integer\n"
     ]
    },
    {
     "data": {
      "text/plain": [
       "'false'"
      ]
     },
     "execution_count": 22,
     "metadata": {},
     "output_type": "execute_result"
    }
   ],
   "source": [
    "print(\"\\nQ3b\\n\")\n",
    "# Q3b: Now add some functionality to the function which does not error if the user inputs something other than a digit\n",
    "\n",
    "# A3b:\n",
    "\n",
    "\n",
    "\n",
    "# -------------------------------------------------------------------------------------- #\n",
    "\n",
    "\n",
    "def prime_check(num_in):\n",
    "    prime_test=0\n",
    "    if num_in==1:\n",
    "        return \"false\"\n",
    "    else: \n",
    "        for i in range(2,num_in):\n",
    "            if num_in%i == 0:\n",
    "                prime_test = 1\n",
    "                break\n",
    "        if prime_test == 1:\n",
    "            return \"false\"\n",
    "        else:\n",
    "            return \"true\"\n",
    "\n",
    "\n",
    "\n",
    "try:\n",
    "    number_use = int(input(\"Pick a number!\"))\n",
    "except:\n",
    "    print(\"Please input an integer\")\n",
    "    oops+=1\n",
    "\n",
    "prime_check(number_use)"
   ]
  }
 ],
 "metadata": {
  "kernelspec": {
   "display_name": "Python 3 (ipykernel)",
   "language": "python",
   "name": "python3"
  },
  "language_info": {
   "codemirror_mode": {
    "name": "ipython",
    "version": 3
   },
   "file_extension": ".py",
   "mimetype": "text/x-python",
   "name": "python",
   "nbconvert_exporter": "python",
   "pygments_lexer": "ipython3",
   "version": "3.9.12"
  }
 },
 "nbformat": 4,
 "nbformat_minor": 5
}
