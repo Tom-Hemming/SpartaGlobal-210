{
 "cells": [
  {
   "cell_type": "code",
   "execution_count": 2,
   "id": "28d1779e",
   "metadata": {},
   "outputs": [
    {
     "name": "stdout",
     "output_type": "stream",
     "text": [
      "\n",
      "Q1a\n",
      "\n",
      "2\n",
      "5\n",
      "4\n",
      "87\n",
      "34\n"
     ]
    }
   ],
   "source": [
    "print(\"\\nQ1a\\n\")\n",
    "# Q1a: Print only the first 5 numbers in this list\n",
    "x = [2, 5, 4, 87, 34, 2, 1, 31, 103, 99]\n",
    "\n",
    "# A1a:\n",
    "\n",
    "\n",
    "for i in range(0,5):\n",
    "    print(x[i])\n"
   ]
  },
  {
   "cell_type": "code",
   "execution_count": 3,
   "id": "31ded7fe",
   "metadata": {},
   "outputs": [
    {
     "name": "stdout",
     "output_type": "stream",
     "text": [
      "\n",
      "Q1b\n",
      "\n",
      "2\n",
      "4\n",
      "34\n",
      "2\n"
     ]
    }
   ],
   "source": [
    "print(\"\\nQ1b\\n\")\n",
    "# Q1b: Now print only the even numbers in this list (the elements that are themselves even)\n",
    "x = [2, 5, 4, 87, 34, 2, 1, 31, 103, 99]\n",
    "\n",
    "# A1b:\n",
    "for i in range(0,len(x)):\n",
    "    if x[i]%2 ==0:\n",
    "        print(x[i])\n",
    "\n"
   ]
  },
  {
   "cell_type": "code",
   "execution_count": 4,
   "id": "a30c68f0",
   "metadata": {},
   "outputs": [
    {
     "name": "stdout",
     "output_type": "stream",
     "text": [
      "\n",
      "Q1c\n",
      "\n",
      "2\n",
      "4\n"
     ]
    }
   ],
   "source": [
    "print(\"\\nQ1c\\n\")\n",
    "# Q1c: Now only print the even numbers up to the fifth element in the list (e.g. 2, 4, 34)\n",
    "x = [2, 5, 4, 87, 34, 2, 1, 31, 103, 99]\n",
    "\n",
    "# A1c:\n",
    "\n",
    "for i in range(0,4):\n",
    "    if x[i]%2 ==0:\n",
    "        print(x[i])\n"
   ]
  },
  {
   "cell_type": "code",
   "execution_count": 5,
   "id": "f3fa4968",
   "metadata": {},
   "outputs": [
    {
     "name": "stdout",
     "output_type": "stream",
     "text": [
      "\n",
      "Q2a\n",
      "\n",
      "['A', 'L', 'K', 'A', 'T']\n"
     ]
    }
   ],
   "source": [
    "# -------------------------------------------------------------------------------------- #\n",
    "\n",
    "print(\"\\nQ2a\\n\")\n",
    "# Q2a: from the list of names, create another list that consists of only the first letters of each first name\n",
    "# e.g. [\"Alan Turing\", \"Leonardo Fibonacci\"] -> [\"A\", \"L\"]\n",
    "names = [\"Alan Turing\", \"Leonardo Fibonacci\", \"Katherine Johnson\", \"Annie Easley\", \"Terence Tao\"]\n",
    "\n",
    "# A2a:\n",
    "first_letter = []\n",
    "for i in names:\n",
    "    first_letter.append(i[0])\n",
    "print(first_letter)\n",
    "\n",
    "\n",
    "\n"
   ]
  },
  {
   "cell_type": "code",
   "execution_count": 6,
   "id": "db81156c",
   "metadata": {},
   "outputs": [
    {
     "name": "stdout",
     "output_type": "stream",
     "text": [
      "\n",
      "Q2b\n",
      "\n",
      "[4, 8, 9, 5, 7]\n"
     ]
    }
   ],
   "source": [
    "print(\"\\nQ2b\\n\")\n",
    "# Q2b: from the list of names, create another list that consists of only the index of the space in the string\n",
    "# HINT: use your_string.index(\"substring\")\n",
    "names = [\"Alan Turing\", \"Leonardo Fibonacci\", \"Katherine Johnson\", \"Annie Easley\", \"Terence Tao\"]\n",
    "\n",
    "# A2b:\n",
    "space_index = []\n",
    "for i in names:\n",
    "    location=i.find(' ')\n",
    "    space_index.append(location)\n",
    "print(space_index)\n",
    "    \n",
    "\n",
    "\n",
    "\n"
   ]
  },
  {
   "cell_type": "code",
   "execution_count": 7,
   "id": "efda404c",
   "metadata": {},
   "outputs": [
    {
     "name": "stdout",
     "output_type": "stream",
     "text": [
      "\n",
      "Q2c\n",
      "\n",
      "['AT', 'LF', 'KJ', 'AE', 'TT']\n"
     ]
    }
   ],
   "source": [
    "print(\"\\nQ2c\\n\")\n",
    "# Q2c: from the list of names, create another list that consists of the first and last initial of each individual\n",
    "names = [\"Alan Turing\", \"Leonardo Fibonacci\", \"Katherine Johnson\", \"Annie Easley\", \"Terence Tao\"]\n",
    "\n",
    "# A2c:\n",
    "first_letter = []\n",
    "first_letter_surname = []\n",
    "for i in names:\n",
    "    first_letter.append(i[0])\n",
    "    location=i[(i.find(' '))+1]\n",
    "    first_letter_surname.append(location)\n",
    "print_name=[]\n",
    "for i in range(0,len(first_letter)):\n",
    "    initials = first_letter[i] + first_letter_surname[i]\n",
    "    print_name.append(initials)\n",
    "print(print_name)\n",
    "\n",
    "\n",
    "\n"
   ]
  },
  {
   "cell_type": "code",
   "execution_count": 8,
   "id": "277d9515",
   "metadata": {},
   "outputs": [
    {
     "name": "stdout",
     "output_type": "stream",
     "text": [
      "\n",
      "Q3a\n",
      "\n",
      "['A', 'B', 'C']\n",
      "['one', 'Two', 'Three', 'Four']\n"
     ]
    }
   ],
   "source": [
    "# -------------------------------------------------------------------------------------- #\n",
    "\n",
    "print(\"\\nQ3a\\n\")\n",
    "# Q3a: Here is a list of lists, print only the lists which have no duplicates\n",
    "# Hint: This can be easily done by using sets as a set does not contain duplicates\n",
    "list_of_lists = [[1,5,7,3,44,4,1],\n",
    "                 [\"A\", \"B\", \"C\"],\n",
    "                 [\"Hi\", \"Hello\", \"Ciao\", \"By\", \"Goodbye\", \"Ciao\"],\n",
    "                 [\"one\", \"Two\", \"Three\", \"Four\"]]\n",
    "\n",
    "\n",
    "# A3a:\n",
    "list_of_sets=[]\n",
    "for list in list_of_lists:\n",
    "    if len(set(list)) == len(list):\n",
    "        print(list)\n"
   ]
  },
  {
   "cell_type": "code",
   "execution_count": 5,
   "id": "7f04a702",
   "metadata": {},
   "outputs": [
    {
     "name": "stdout",
     "output_type": "stream",
     "text": [
      "\n",
      "Q4a\n",
      "\n",
      "Enter a number over 100!1\n",
      "Enter a number over 100!a\n",
      "That's not a number! Please Enter a number over 100\n",
      "Enter a number over 100!sdad\n",
      "That's not a number! Please Enter a number over 100\n",
      "Enter a number over 100!99\n",
      "Enter a number over 100!100\n",
      "Enter a number over 100!100.01\n",
      "100.01\n"
     ]
    }
   ],
   "source": [
    "# -------------------------------------------------------------------------------------- #\n",
    "\n",
    "print(\"\\nQ4a\\n\")\n",
    "# Q4a: Using a while loop, ask the user to input a number greater than 100, if they enter anything else,\n",
    "# get them to enter again (and repeat until the conditions are satisfied). Finally print the number that\n",
    "# they entered\n",
    "\n",
    "# A4a:\n",
    "in_test = 0\n",
    "while in_test <= float(100):\n",
    "    try:\n",
    "        in_test = float(input('Enter a number over 100!'))\n",
    "        \n",
    "    except:\n",
    "        print('That\\'s not a number! Please Enter a number over 100')\n",
    "    \n",
    "else:\n",
    "    print(in_test)\n"
   ]
  },
  {
   "cell_type": "code",
   "execution_count": 15,
   "id": "2972b360",
   "metadata": {},
   "outputs": [
    {
     "name": "stdout",
     "output_type": "stream",
     "text": [
      "\n",
      "Q4b\n",
      "\n",
      "Enter a number over 100!101\n",
      "101\n",
      "prime\n"
     ]
    }
   ],
   "source": [
    "print(\"\\nQ4b\\n\")\n",
    "# Q4b: Continue this code and print \"prime\" if the number is a prime number and \"not prime\" otherwise\n",
    "\n",
    "# A4b:\n",
    "\n",
    "in_test = 0\n",
    "prime_check = 0\n",
    "while in_test <= 100:\n",
    "    try:\n",
    "        in_test = int(input('Enter a number over 100!'))\n",
    "        \n",
    "    except:\n",
    "        print('That\\'s not a number! Please Enter a number over 100')\n",
    "    \n",
    "else:\n",
    "    print(in_test) \n",
    "    for i in range(2,in_test):\n",
    "        if in_test%i == 0:\n",
    "            prime_check = 1\n",
    "            break\n",
    "    if prime_check == 1:\n",
    "        print(\"not prime\")\n",
    "    else:\n",
    "        print(\"prime\")"
   ]
  }
 ],
 "metadata": {
  "kernelspec": {
   "display_name": "Python 3 (ipykernel)",
   "language": "python",
   "name": "python3"
  },
  "language_info": {
   "codemirror_mode": {
    "name": "ipython",
    "version": 3
   },
   "file_extension": ".py",
   "mimetype": "text/x-python",
   "name": "python",
   "nbconvert_exporter": "python",
   "pygments_lexer": "ipython3",
   "version": "3.9.12"
  }
 },
 "nbformat": 4,
 "nbformat_minor": 5
}
